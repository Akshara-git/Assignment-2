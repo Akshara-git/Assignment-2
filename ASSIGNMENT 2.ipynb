{
 "cells": [
  {
   "cell_type": "code",
   "execution_count": 2,
   "metadata": {},
   "outputs": [
    {
     "name": "stdout",
     "output_type": "stream",
     "text": [
      "(11, [222, 33], 44, 55)\n"
     ]
    }
   ],
   "source": [
    " \"\"\"\"Modify the first item (22) of a list inside a following tuple to\n",
    "222\n",
    "tuple1 = (11, [22, 33], 44, 55)\"\"\"\n",
    "    \n",
    "    \n",
    "t1= (11, [22, 33], 44, 55)\n",
    "t1[1][0] = 222\n",
    "print(t1)\n"
   ]
  },
  {
   "cell_type": "code",
   "execution_count": 3,
   "metadata": {},
   "outputs": [
    {
     "name": "stdout",
     "output_type": "stream",
     "text": [
      "2\n"
     ]
    }
   ],
   "source": [
    "\"\"\"\"Count the number of occurrences of item 50 from a tuple\n",
    "tuple1 = (50, 10, 60, 70, 50\"\"\"\n",
    "\n",
    "\n",
    "t2 = (50, 10, 60, 70, 50)\n",
    "print(t2.count(50))"
   ]
  },
  {
   "cell_type": "code",
   "execution_count": 4,
   "metadata": {},
   "outputs": [
    {
     "name": "stdout",
     "output_type": "stream",
     "text": [
      "[1, 2, 3, 4, 5]\n",
      "(1, 2, 3, 4, 5)\n"
     ]
    }
   ],
   "source": [
    "\"\"\"\"Write a Python program to convert a list to a tuple\"\"\"\n",
    "\n",
    "\n",
    "\n",
    "lst= [1,2,3,4,5]\n",
    "print(lst)\n",
    "tuple1= tuple(lst)\n",
    "print(tuple1)"
   ]
  },
  {
   "cell_type": "code",
   "execution_count": 8,
   "metadata": {},
   "outputs": [
    {
     "name": "stdout",
     "output_type": "stream",
     "text": [
      "{70, 40, 10, 50, 20, 60, 30}\n"
     ]
    }
   ],
   "source": [
    " \"\"\"\"Returns a new set with all items from both sets by removing\n",
    "duplicates\n",
    "set1 = {10, 20, 30, 40, 50}\n",
    "set2 = {30, 40, 50, 60, 70}\"\"\"\n",
    "    \n",
    "    \n",
    "    \n",
    "set1 = {10, 20, 30, 40, 50}\n",
    "set2 = {30, 40, 50, 60, 70}\n",
    "print(set1.union(set2))"
   ]
  },
  {
   "cell_type": "code",
   "execution_count": 9,
   "metadata": {},
   "outputs": [
    {
     "name": "stdout",
     "output_type": "stream",
     "text": [
      "{'Ten': 10, 'Twenty': 20, 'Thirty': 30, 'Fourty': 40, 'Fifty': 50}\n"
     ]
    }
   ],
   "source": [
    "\"\"\"\"Merge following two Python dictionaries into one\n",
    "dict1 = {'Ten': 10, 'Twenty': 20, 'Thirty': 30}\n",
    "dict2 = {'Thirty': 30, 'Fourty': 40, 'Fifty': 50}\"\"\"\n",
    "\n",
    "\n",
    "\n",
    "dict1 = {'Ten': 10, 'Twenty': 20, 'Thirty': 30}\n",
    "dict2 = {'Thirty': 30, 'Fourty': 40, 'Fifty': 50}\n",
    "dict3 = {**dict1, **dict2}\n",
    "print(dict3)"
   ]
  },
  {
   "cell_type": "code",
   "execution_count": 14,
   "metadata": {},
   "outputs": [
    {
     "name": "stdout",
     "output_type": "stream",
     "text": [
      "{'emp1': {'name': 'Jhon', 'salary': 7500}, 'emp2': {'name': 'Emma', 'salary': 8000}, 'emp3': {'name': 'Brad', 'salary': 8500}}\n"
     ]
    }
   ],
   "source": [
    "\"\"\"\"Given a Python dictionary, Change Brad’s salary to 8500\n",
    "sampleDict = {\n",
    " 'emp1': {'name': 'Jhon', 'salary': 7500},\n",
    " 'emp2': {'name': 'Emma', 'salary': 8000},\n",
    " 'emp3': {'name': 'Brad', 'salary': 6500}\n",
    "}\"\"\"\n",
    "\n",
    "\n",
    "\n",
    "sampleDict = {\n",
    " 'emp1': {'name': 'Jhon', 'salary': 7500},\n",
    " 'emp2': {'name': 'Emma', 'salary': 8000},\n",
    " 'emp3': {'name': 'Brad', 'salary': 6500}\n",
    "}\n",
    "sampleDict['emp3']['salary'] = 8500\n",
    "print(sampleDict)"
   ]
  },
  {
   "cell_type": "code",
   "execution_count": 9,
   "metadata": {},
   "outputs": [
    {
     "name": "stdout",
     "output_type": "stream",
     "text": [
      "{'name': 'Kelly', 'age': 25, 'salary': 8000, 'location': 'New york'}\n"
     ]
    }
   ],
   "source": [
    "\"\"\"\"Rename key city to location in the following dictionary\n",
    "sampleDict = {\n",
    " \"name\": \"Kelly\",\n",
    " \"age\":25,\n",
    " \"salary\": 8000,\n",
    " \"city\": \"New york\"\n",
    "}\"\"\"\n",
    "\n",
    "\n",
    "\n",
    "sampleDict = {\n",
    "  \"name\": \"Kelly\",\n",
    "  \"age\":25,\n",
    "  \"salary\": 8000,\n",
    "  \"city\": \"New york\"\n",
    "}\n",
    "\n",
    "sampleDict['location'] = sampleDict.pop('city')\n",
    "print(sampleDict)"
   ]
  }
 ],
 "metadata": {
  "kernelspec": {
   "display_name": "Python 3",
   "language": "python",
   "name": "python3"
  },
  "language_info": {
   "codemirror_mode": {
    "name": "ipython",
    "version": 3
   },
   "file_extension": ".py",
   "mimetype": "text/x-python",
   "name": "python",
   "nbconvert_exporter": "python",
   "pygments_lexer": "ipython3",
   "version": "3.8.3"
  }
 },
 "nbformat": 4,
 "nbformat_minor": 4
}
